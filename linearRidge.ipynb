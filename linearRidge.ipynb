{
 "cells": [
  {
   "cell_type": "code",
   "execution_count": 1,
   "id": "6df03d4e",
   "metadata": {},
   "outputs": [],
   "source": [
    "import numpy as np\n",
    "import pandas as pd\n",
    "from sklearn import datasets\n",
    "from sklearn.linear_model import LinearRegression, Ridge\n",
    "from sklearn.metrics import mean_squared_error, r2_score"
   ]
  },
  {
   "cell_type": "code",
   "execution_count": 2,
   "id": "3432671c",
   "metadata": {},
   "outputs": [],
   "source": [
    "data = datasets.load_diabetes()\n",
    "X = data.data\n",
    "y = data.target\n"
   ]
  },
  {
   "cell_type": "code",
   "execution_count": 3,
   "id": "16f9d13b",
   "metadata": {},
   "outputs": [],
   "source": [
    "lin_reg = LinearRegression()\n",
    "lin_reg.fit(X, y)\n",
    "y_pred_lin = lin_reg.predict(X)"
   ]
  },
  {
   "cell_type": "code",
   "execution_count": 4,
   "id": "9a308561",
   "metadata": {},
   "outputs": [],
   "source": [
    "ridge_reg = Ridge(alpha=10)  # alpha controls penalty strength\n",
    "ridge_reg.fit(X, y)\n",
    "y_pred_ridge = ridge_reg.predict(X)"
   ]
  },
  {
   "cell_type": "code",
   "execution_count": 5,
   "id": "a7b54413",
   "metadata": {},
   "outputs": [
    {
     "name": "stdout",
     "output_type": "stream",
     "text": [
      "Linear Regression MSE: 2859.69634758675\n",
      "Linear Regression R2: 0.5177484222203499\n"
     ]
    }
   ],
   "source": [
    "print(\"Linear Regression MSE:\", mean_squared_error(y, y_pred_lin))\n",
    "print(\"Linear Regression R2:\", r2_score(y, y_pred_lin))"
   ]
  },
  {
   "cell_type": "code",
   "execution_count": 6,
   "id": "b54c7fbb",
   "metadata": {},
   "outputs": [
    {
     "name": "stdout",
     "output_type": "stream",
     "text": [
      "Ridge Regression MSE: 4810.007972843552\n",
      "Ridge Regression R2: 0.18885306267079727\n"
     ]
    }
   ],
   "source": [
    "print(\"Ridge Regression MSE:\", mean_squared_error(y, y_pred_ridge))\n",
    "print(\"Ridge Regression R2:\", r2_score(y, y_pred_ridge))"
   ]
  },
  {
   "cell_type": "code",
   "execution_count": null,
   "id": "71427d4f",
   "metadata": {},
   "outputs": [],
   "source": []
  },
  {
   "cell_type": "code",
   "execution_count": null,
   "id": "8bddd991",
   "metadata": {},
   "outputs": [],
   "source": []
  }
 ],
 "metadata": {
  "kernelspec": {
   "display_name": "Python 3",
   "language": "python",
   "name": "python3"
  },
  "language_info": {
   "codemirror_mode": {
    "name": "ipython",
    "version": 3
   },
   "file_extension": ".py",
   "mimetype": "text/x-python",
   "name": "python",
   "nbconvert_exporter": "python",
   "pygments_lexer": "ipython3",
   "version": "3.10.11"
  }
 },
 "nbformat": 4,
 "nbformat_minor": 5
}
